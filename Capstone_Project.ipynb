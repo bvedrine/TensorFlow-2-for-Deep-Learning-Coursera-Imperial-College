{
  "nbformat": 4,
  "nbformat_minor": 0,
  "metadata": {
    "kernelspec": {
      "display_name": "Python 3",
      "name": "python3"
    },
    "language_info": {
      "name": "python"
    },
    "colab": {
      "provenance": [],
      "gpuType": "T4"
    },
    "accelerator": "GPU"
  },
  "cells": [
    {
      "cell_type": "markdown",
      "metadata": {
        "id": "vsX0L1sG1iZj"
      },
      "source": [
        "# Capstone Project\n",
        "## Neural translation model\n",
        "### Instructions\n",
        "\n",
        "In this notebook, you will create a neural network that translates from English to German. You will use concepts from throughout this course, including building more flexible model architectures, freezing layers, data processing pipeline and sequence modelling.\n",
        "\n",
        "This project is peer-assessed. Within this notebook you will find instructions in each section for how to complete the project. Pay close attention to the instructions as the peer review will be carried out according to a grading rubric that checks key parts of the project instructions. Feel free to add extra cells into the notebook as required.\n",
        "\n",
        "### How to submit\n",
        "\n",
        "When you have completed the Capstone project notebook, you will submit a pdf of the notebook for peer review. First ensure that the notebook has been fully executed from beginning to end, and all of the cell outputs are visible. This is important, as the grading rubric depends on the reviewer being able to view the outputs of your notebook. Save the notebook as a pdf (you could download the notebook with File -> Download .ipynb, open the notebook locally, and then File -> Download as -> PDF via LaTeX), and then submit this pdf for review.\n",
        "\n",
        "### Let's get started!\n",
        "\n",
        "We'll start by running some imports, and loading the dataset. For this project you are free to make further imports throughout the notebook as you wish."
      ]
    },
    {
      "cell_type": "code",
      "metadata": {
        "id": "2VyTvxPN1iZn"
      },
      "source": [
        "import tensorflow as tf\n",
        "import tensorflow_hub as hub\n",
        "import unicodedata\n",
        "import re\n",
        "from IPython.display import Image\n",
        "\n",
        "\n",
        "from tensorflow.keras.preprocessing.text import Tokenizer\n",
        "import numpy as np\n",
        "from sklearn.model_selection import train_test_split\n",
        "\n",
        "from tensorflow.keras.layers import Layer, concatenate, Input, Masking, LSTM, Embedding, Dense\n",
        "from tensorflow.keras.models import Model"
      ],
      "execution_count": 128,
      "outputs": []
    },
    {
      "cell_type": "markdown",
      "metadata": {
        "id": "wuIi4lAR1iZt"
      },
      "source": [
        "For the capstone project, you will use a language dataset from http://www.manythings.org/anki/ to build a neural translation model. This dataset consists of over 200,000 pairs of sentences in English and German. In order to make the training quicker, we will restrict to our dataset to 20,000 pairs. Feel free to change this if you wish - the size of the dataset used is not part of the grading rubric.\n",
        "\n",
        "Your goal is to develop a neural translation model from English to German, making use of a pre-trained English word embedding module."
      ]
    },
    {
      "cell_type": "markdown",
      "metadata": {
        "id": "pi9Dq6vv3FVO"
      },
      "source": [
        "#### Import the data\n",
        "\n",
        "The dataset is available for download as a zip file at the following link:\n",
        "\n",
        "https://drive.google.com/open?id=1KczOciG7sYY7SB9UlBeRP1T9659b121Q\n",
        "\n",
        "You should store the unzipped folder in Drive for use in this Colab notebook."
      ]
    },
    {
      "cell_type": "code",
      "metadata": {
        "id": "Nw99tEEQ3bKL",
        "colab": {
          "base_uri": "https://localhost:8080/",
          "height": 0
        },
        "outputId": "93f7b38e-0a77-443d-c48f-c55409e3659e"
      },
      "source": [
        "# Run this cell to connect to your Drive folder\n",
        "\n",
        "from google.colab import drive\n",
        "drive.mount('/content/gdrive')"
      ],
      "execution_count": 129,
      "outputs": [
        {
          "output_type": "stream",
          "name": "stdout",
          "text": [
            "Drive already mounted at /content/gdrive; to attempt to forcibly remount, call drive.mount(\"/content/gdrive\", force_remount=True).\n"
          ]
        }
      ]
    },
    {
      "cell_type": "code",
      "metadata": {
        "id": "o8PetPpw1iZu"
      },
      "source": [
        "# Run this cell to load the dataset\n",
        "\n",
        "NUM_EXAMPLES = 20000\n",
        "data_examples = []\n",
        "with open('/content/gdrive/My Drive/deu.txt', 'r', encoding='utf8') as f:\n",
        "    for line in f.readlines():\n",
        "        if len(data_examples) < NUM_EXAMPLES:\n",
        "            data_examples.append(line)\n",
        "        else:\n",
        "            break"
      ],
      "execution_count": 130,
      "outputs": []
    },
    {
      "cell_type": "code",
      "metadata": {
        "id": "JumLjJ631iZy"
      },
      "source": [
        "# These functions preprocess English and German sentences\n",
        "\n",
        "def unicode_to_ascii(s):\n",
        "    return ''.join(c for c in unicodedata.normalize('NFD', s) if unicodedata.category(c) != 'Mn')\n",
        "\n",
        "def preprocess_sentence(sentence):\n",
        "    sentence = sentence.lower().strip()\n",
        "    sentence = re.sub(r\"ü\", 'ue', sentence)\n",
        "    sentence = re.sub(r\"ä\", 'ae', sentence)\n",
        "    sentence = re.sub(r\"ö\", 'oe', sentence)\n",
        "    sentence = re.sub(r'ß', 'ss', sentence)\n",
        "\n",
        "    sentence = unicode_to_ascii(sentence)\n",
        "    sentence = re.sub(r\"([?.!,])\", r\" \\1 \", sentence)\n",
        "    sentence = re.sub(r\"[^a-z?.!,']+\", \" \", sentence)\n",
        "    sentence = re.sub(r'[\" \"]+', \" \", sentence)\n",
        "\n",
        "    return sentence.strip()"
      ],
      "execution_count": 131,
      "outputs": []
    },
    {
      "cell_type": "markdown",
      "metadata": {
        "id": "XFJap-TW1iZ2"
      },
      "source": [
        "#### The custom translation model\n",
        "The following is a schematic of the custom translation model architecture you will develop in this project."
      ]
    },
    {
      "cell_type": "code",
      "metadata": {
        "id": "gBF1K2JN4RFJ",
        "colab": {
          "base_uri": "https://localhost:8080/",
          "height": 648
        },
        "outputId": "b1022648-5944-41f3-ac43-5713dcbbe0b2"
      },
      "source": [
        "# Run this cell to download and view a schematic diagram for the neural translation model\n",
        "\n",
        "!wget -q -O neural_translation_model.png --no-check-certificate \"https://docs.google.com/uc?export=download&id=1XsS1VlXoaEo-RbYNilJ9jcscNZvsSPmd\"\n",
        "Image(\"neural_translation_model.png\")"
      ],
      "execution_count": 132,
      "outputs": [
        {
          "output_type": "execute_result",
          "data": {
            "image/png": "[encoded data removed]",
            "text/plain": [
              "<IPython.core.display.Image object>"
            ]
          },
          "metadata": {},
          "execution_count": 132
        }
      ]
    },
    {
      "cell_type": "markdown",
      "metadata": {
        "id": "0fP7P-yK4RS7"
      },
      "source": [
        "The custom model consists of an encoder RNN and a decoder RNN. The encoder takes words of an English sentence as input, and uses a pre-trained word embedding to embed the words into a 128-dimensional space. To indicate the end of the input sentence, a special end token (in the same 128-dimensional space) is passed in as an input. This token is a TensorFlow Variable that is learned in the training phase (unlike the pre-trained word embedding, which is frozen).\n",
        "\n",
        "The decoder RNN takes the internal state of the encoder network as its initial state. A start token is passed in as the first input, which is embedded using a learned German word embedding. The decoder RNN then makes a prediction for the next German word, which during inference is then passed in as the following input, and this process is repeated until the special `<end>` token is emitted from the decoder."
      ]
    },
    {
      "cell_type": "markdown",
      "metadata": {
        "id": "z70nu6_01iZ3"
      },
      "source": [
        "## 1. Text preprocessing\n",
        "* Create separate lists of English and German sentences, and preprocess them using the `preprocess_sentence` function provided for you above.\n",
        "* Add a special `\"<start>\"` and `\"<end>\"` token to the beginning and end of every German sentence.\n",
        "* Use the Tokenizer class from the `tf.keras.preprocessing.text` module to tokenize the German sentences, ensuring that no character filters are applied. _Hint: use the Tokenizer's \"filter\" keyword argument._\n",
        "* Print out at least 5 randomly chosen examples of (preprocessed) English and German sentence pairs. For the German sentence, print out the text (with start and end tokens) as well as the tokenized sequence.\n",
        "* Pad the end of the tokenized German sequences with zeros, and batch the complete set of sequences into one numpy array."
      ]
    },
    {
      "cell_type": "code",
      "metadata": {
        "scrolled": true,
        "id": "9G20C4bk1iZ4",
        "colab": {
          "base_uri": "https://localhost:8080/",
          "height": 0
        },
        "outputId": "129945fc-f8bc-42ea-fb52-dee27df1b63f"
      },
      "source": [
        "data_examples[0:10]"
      ],
      "execution_count": 133,
      "outputs": [
        {
          "output_type": "execute_result",
          "data": {
            "text/plain": [
              "['Hi.\\tHallo!\\tCC-BY 2.0 (France) Attribution: tatoeba.org #538123 (CM) & #380701 (cburgmer)\\n',\n",
              " 'Hi.\\tGrüß Gott!\\tCC-BY 2.0 (France) Attribution: tatoeba.org #538123 (CM) & #659813 (Esperantostern)\\n',\n",
              " 'Run!\\tLauf!\\tCC-BY 2.0 (France) Attribution: tatoeba.org #906328 (papabear) & #941078 (Fingerhut)\\n',\n",
              " 'Wow!\\tPotzdonner!\\tCC-BY 2.0 (France) Attribution: tatoeba.org #52027 (Zifre) & #2122382 (Pfirsichbaeumchen)\\n',\n",
              " 'Wow!\\tDonnerwetter!\\tCC-BY 2.0 (France) Attribution: tatoeba.org #52027 (Zifre) & #2122391 (Pfirsichbaeumchen)\\n',\n",
              " 'Fire!\\tFeuer!\\tCC-BY 2.0 (France) Attribution: tatoeba.org #1829639 (Spamster) & #1958697 (Tamy)\\n',\n",
              " 'Help!\\tHilfe!\\tCC-BY 2.0 (France) Attribution: tatoeba.org #435084 (lukaszpp) & #575889 (MUIRIEL)\\n',\n",
              " 'Help!\\tZu Hülf!\\tCC-BY 2.0 (France) Attribution: tatoeba.org #435084 (lukaszpp) & #2122375 (Pfirsichbaeumchen)\\n',\n",
              " 'Stop!\\tStopp!\\tCC-BY 2.0 (France) Attribution: tatoeba.org #448320 (FeuDRenais) & #626467 (jakov)\\n',\n",
              " 'Wait!\\tWarte!\\tCC-BY 2.0 (France) Attribution: tatoeba.org #1744314 (belgavox) & #2122378 (Pfirsichbaeumchen)\\n']"
            ]
          },
          "metadata": {},
          "execution_count": 133
        }
      ]
    },
    {
      "cell_type": "code",
      "metadata": {
        "id": "Sxwl-1rB1iZ8",
        "colab": {
          "base_uri": "https://localhost:8080/",
          "height": 0
        },
        "outputId": "21204ffd-c560-409a-c42f-3bbe6303d845"
      },
      "source": [
        "en_sentences = [sentence.split('\\t')[0] for sentence in data_examples]\n",
        "de_sentences = [sentence.split('\\t')[1] for sentence in data_examples]\n",
        "en_sentences[0:10]"
      ],
      "execution_count": 134,
      "outputs": [
        {
          "output_type": "execute_result",
          "data": {
            "text/plain": [
              "['Hi.',\n",
              " 'Hi.',\n",
              " 'Run!',\n",
              " 'Wow!',\n",
              " 'Wow!',\n",
              " 'Fire!',\n",
              " 'Help!',\n",
              " 'Help!',\n",
              " 'Stop!',\n",
              " 'Wait!']"
            ]
          },
          "metadata": {},
          "execution_count": 134
        }
      ]
    },
    {
      "cell_type": "code",
      "metadata": {
        "id": "WnIdqZFk1iaA",
        "colab": {
          "base_uri": "https://localhost:8080/",
          "height": 0
        },
        "outputId": "296b1a3b-2ce5-4780-e854-51febeddf923"
      },
      "source": [
        "prepro_en_sentences = [preprocess_sentence(sentence) for sentence in en_sentences]\n",
        "prepro_en_sentences[0:10]"
      ],
      "execution_count": 135,
      "outputs": [
        {
          "output_type": "execute_result",
          "data": {
            "text/plain": [
              "['hi .',\n",
              " 'hi .',\n",
              " 'run !',\n",
              " 'wow !',\n",
              " 'wow !',\n",
              " 'fire !',\n",
              " 'help !',\n",
              " 'help !',\n",
              " 'stop !',\n",
              " 'wait !']"
            ]
          },
          "metadata": {},
          "execution_count": 135
        }
      ]
    },
    {
      "cell_type": "code",
      "metadata": {
        "id": "5UlnBdIK1iaE",
        "colab": {
          "base_uri": "https://localhost:8080/",
          "height": 0
        },
        "outputId": "b8d453d6-0d6b-41fd-902f-c7255806f4e8"
      },
      "source": [
        "prepro_de_sentences = [\"<start> \" + preprocess_sentence(sentence) + \" <end>\" for sentence in de_sentences]\n",
        "prepro_de_sentences[0:10]"
      ],
      "execution_count": 136,
      "outputs": [
        {
          "output_type": "execute_result",
          "data": {
            "text/plain": [
              "['<start> hallo ! <end>',\n",
              " '<start> gruess gott ! <end>',\n",
              " '<start> lauf ! <end>',\n",
              " '<start> potzdonner ! <end>',\n",
              " '<start> donnerwetter ! <end>',\n",
              " '<start> feuer ! <end>',\n",
              " '<start> hilfe ! <end>',\n",
              " '<start> zu huelf ! <end>',\n",
              " '<start> stopp ! <end>',\n",
              " '<start> warte ! <end>']"
            ]
          },
          "metadata": {},
          "execution_count": 136
        }
      ]
    },
    {
      "cell_type": "code",
      "metadata": {
        "id": "ZGTaqt1t1iaI",
        "colab": {
          "base_uri": "https://localhost:8080/",
          "height": 0
        },
        "outputId": "23467ca4-c85c-431a-8ea4-7a48aeb8afca"
      },
      "source": [
        "def create_tokenizer(sentences):\n",
        "    tokenizer = Tokenizer(num_words=None,\n",
        "                          filters='',\n",
        "                          char_level=False)\n",
        "    #tokenizer.fit_on_sequences(sentences)\n",
        "    tokenizer.fit_on_texts(sentences)\n",
        "    return tokenizer\n",
        "\n",
        "tokenizer = create_tokenizer(prepro_de_sentences)\n",
        "unique_tokens = max(tokenizer.word_index.values()) + 1\n",
        "de_tokens = tokenizer.texts_to_sequences(prepro_de_sentences)\n",
        "de_tokens[0:10]"
      ],
      "execution_count": 137,
      "outputs": [
        {
          "output_type": "execute_result",
          "data": {
            "text/plain": [
              "[[1, 405, 9, 2],\n",
              " [1, 3155, 663, 9, 2],\n",
              " [1, 975, 9, 2],\n",
              " [1, 3156, 9, 2],\n",
              " [1, 3157, 9, 2],\n",
              " [1, 1077, 9, 2],\n",
              " [1, 283, 9, 2],\n",
              " [1, 20, 3158, 9, 2],\n",
              " [1, 2260, 9, 2],\n",
              " [1, 335, 9, 2]]"
            ]
          },
          "metadata": {},
          "execution_count": 137
        }
      ]
    },
    {
      "cell_type": "code",
      "metadata": {
        "id": "fqiO7HuQ1iaL",
        "colab": {
          "base_uri": "https://localhost:8080/",
          "height": 0
        },
        "outputId": "4307bbe2-f196-4fcc-8b17-6967630c05d0"
      },
      "source": [
        "num_samples = 5\n",
        "inx = np.random.choice(len(en_sentences), num_samples, replace=False)\n",
        "for i in inx:\n",
        "    print('English sentence :', en_sentences[i], '\\n',\n",
        "          'German sentence :', prepro_de_sentences[i], '\\n',\n",
        "          'German token :', de_tokens[i], '\\n')"
      ],
      "execution_count": 138,
      "outputs": [
        {
          "output_type": "stream",
          "name": "stdout",
          "text": [
            "English sentence : Tom is sickened. \n",
            " German sentence : <start> tom ist angewidert . <end> \n",
            " German token : [1, 5, 6, 2945, 3, 2] \n",
            "\n",
            "English sentence : I must fix it. \n",
            " German sentence : <start> ich muss es reparieren . <end> \n",
            " German token : [1, 4, 85, 10, 1240, 3, 2] \n",
            "\n",
            "English sentence : I wanted to win. \n",
            " German sentence : <start> ich wollte gewinnen . <end> \n",
            " German token : [1, 4, 440, 227, 3, 2] \n",
            "\n",
            "English sentence : You'll be fine. \n",
            " German sentence : <start> es wird dir gut gehen . <end> \n",
            " German token : [1, 10, 48, 52, 49, 45, 3, 2] \n",
            "\n",
            "English sentence : I can't stand him. \n",
            " German sentence : <start> ich kann ihn nicht ausstehen . <end> \n",
            " German token : [1, 4, 30, 44, 12, 1169, 3, 2] \n",
            "\n"
          ]
        }
      ]
    },
    {
      "cell_type": "code",
      "source": [
        "def make_padded_dataset(sequences):\n",
        "    \"\"\"\n",
        "    This function takes a list of lists of tokenized sequences, and transforms\n",
        "    them into a numpy array, padding the sequences as necessary according to\n",
        "    the above specification. The function should then return the numpy array.\n",
        "    \"\"\"\n",
        "    padded_sequences = tf.keras.preprocessing.sequence.pad_sequences(sequences,\n",
        "                                                                    maxlen=None,\n",
        "                                                                    dtype='int32',\n",
        "                                                                    padding='post',\n",
        "                                                                    value=0)\n",
        "    return padded_sequences\n",
        "de_padded_sequences = make_padded_dataset(de_tokens)\n",
        "de_padded_sequences[0:10]"
      ],
      "metadata": {
        "colab": {
          "base_uri": "https://localhost:8080/",
          "height": 0
        },
        "id": "O6mHefPWwP68",
        "outputId": "b0138eae-4765-433a-d27a-efebc4b9436b"
      },
      "execution_count": 139,
      "outputs": [
        {
          "output_type": "execute_result",
          "data": {
            "text/plain": [
              "array([[   1,  405,    9,    2,    0,    0,    0,    0,    0,    0,    0,\n",
              "           0,    0,    0],\n",
              "       [   1, 3155,  663,    9,    2,    0,    0,    0,    0,    0,    0,\n",
              "           0,    0,    0],\n",
              "       [   1,  975,    9,    2,    0,    0,    0,    0,    0,    0,    0,\n",
              "           0,    0,    0],\n",
              "       [   1, 3156,    9,    2,    0,    0,    0,    0,    0,    0,    0,\n",
              "           0,    0,    0],\n",
              "       [   1, 3157,    9,    2,    0,    0,    0,    0,    0,    0,    0,\n",
              "           0,    0,    0],\n",
              "       [   1, 1077,    9,    2,    0,    0,    0,    0,    0,    0,    0,\n",
              "           0,    0,    0],\n",
              "       [   1,  283,    9,    2,    0,    0,    0,    0,    0,    0,    0,\n",
              "           0,    0,    0],\n",
              "       [   1,   20, 3158,    9,    2,    0,    0,    0,    0,    0,    0,\n",
              "           0,    0,    0],\n",
              "       [   1, 2260,    9,    2,    0,    0,    0,    0,    0,    0,    0,\n",
              "           0,    0,    0],\n",
              "       [   1,  335,    9,    2,    0,    0,    0,    0,    0,    0,    0,\n",
              "           0,    0,    0]], dtype=int32)"
            ]
          },
          "metadata": {},
          "execution_count": 139
        }
      ]
    },
    {
      "cell_type": "markdown",
      "metadata": {
        "id": "foL7Ihs21iaP"
      },
      "source": [
        "## 2. Prepare the data"
      ]
    },
    {
      "cell_type": "markdown",
      "metadata": {
        "id": "-9rCEE4z1iaQ"
      },
      "source": [
        "#### Load the embedding layer\n",
        "As part of the dataset preproceessing for this project, you will use a pre-trained English word embedding module from TensorFlow Hub. The URL for the module is https://tfhub.dev/google/tf2-preview/nnlm-en-dim128-with-normalization/1.\n",
        "\n",
        "This embedding takes a batch of text tokens in a 1-D tensor of strings as input. It then embeds the separate tokens into a 128-dimensional space.\n",
        "\n",
        "The code to load and test the embedding layer is provided for you below.\n",
        "\n",
        "**NB:** this model can also be used as a sentence embedding module. The module will process each token by removing punctuation and splitting on spaces. It then averages the word embeddings over a sentence to give a single embedding vector. However, we will use it only as a word embedding module, and will pass each word in the input sentence as a separate token."
      ]
    },
    {
      "cell_type": "code",
      "metadata": {
        "id": "ywZgobCh1iaR"
      },
      "source": [
        "# Load embedding module from Tensorflow Hub\n",
        "\n",
        "embedding_layer = hub.KerasLayer(\"https://tfhub.dev/google/tf2-preview/nnlm-en-dim128/1\",\n",
        "                                 output_shape=[128], input_shape=[], dtype=tf.string)"
      ],
      "execution_count": 140,
      "outputs": []
    },
    {
      "cell_type": "code",
      "metadata": {
        "id": "TiY8QEDp1iaV",
        "colab": {
          "base_uri": "https://localhost:8080/",
          "height": 0
        },
        "outputId": "1128604c-4a27-401e-c19e-50b600f953b3"
      },
      "source": [
        "# Test the layer\n",
        "\n",
        "embedding_layer(tf.constant([\"these\", \"aren't\", \"the\", \"droids\", \"you're\", \"looking\", \"for\"])).shape"
      ],
      "execution_count": 141,
      "outputs": [
        {
          "output_type": "execute_result",
          "data": {
            "text/plain": [
              "TensorShape([7, 128])"
            ]
          },
          "metadata": {},
          "execution_count": 141
        }
      ]
    },
    {
      "cell_type": "markdown",
      "metadata": {
        "id": "KjuzXc-z1iaY"
      },
      "source": [
        "You should now prepare the training and validation Datasets.\n",
        "\n",
        "* Create a random training and validation set split of the data, reserving e.g. 20% of the data for validation (NB: each English dataset example is a single sentence string, and each German dataset example is a sequence of padded integer tokens).\n",
        "* Load the training and validation sets into a tf.data.Dataset object, passing in a tuple of English and German data for both training and validation sets.\n",
        "* Create a function to map over the datasets that splits each English sentence at spaces. Apply this function to both Dataset objects using the map method. _Hint: look at the tf.strings.split function._\n",
        "* Create a function to map over the datasets that embeds each sequence of English words using the loaded embedding layer/model. Apply this function to both Dataset objects using the map method.\n",
        "* Create a function to filter out dataset examples where the English sentence is greater than or equal to than 13 (embedded) tokens in length. Apply this function to both Dataset objects using the filter method.\n",
        "* Create a function to map over the datasets that pads each English sequence of embeddings with some distinct padding value before the sequence, so that each sequence is length 13. Apply this function to both Dataset objects using the map method. _Hint: look at the tf.pad function. You can extract a Tensor shape using tf.shape; you might also find the tf.math.maximum function useful._\n",
        "* Batch both training and validation Datasets with a batch size of 16.\n",
        "* Print the `element_spec` property for the training and validation Datasets.\n",
        "* Using the Dataset `.take(1)` method, print the shape of the English data example from the training Dataset.\n",
        "* Using the Dataset `.take(1)` method, print the German data example Tensor from the validation Dataset."
      ]
    },
    {
      "cell_type": "code",
      "metadata": {
        "id": "Q-BUJOl_1iaZ"
      },
      "source": [
        "x_train, x_valid, y_train, y_valid = train_test_split(prepro_en_sentences, de_padded_sequences, test_size = 0.2)\n"
      ],
      "execution_count": 142,
      "outputs": []
    },
    {
      "cell_type": "code",
      "metadata": {
        "id": "4w6rM8Bl1iad",
        "colab": {
          "base_uri": "https://localhost:8080/",
          "height": 0
        },
        "outputId": "d8e023e2-6151-4765-b97e-d6d345603eb1"
      },
      "source": [
        "train_dataset_unprocessed = tf.data.Dataset.from_tensor_slices((x_train, y_train))\n",
        "valid_dataset_unprocessed = tf.data.Dataset.from_tensor_slices((x_valid, y_valid))\n",
        "\n",
        "for element in train_dataset_unprocessed:\n",
        "    print(element)\n",
        "    break"
      ],
      "execution_count": 143,
      "outputs": [
        {
          "output_type": "stream",
          "name": "stdout",
          "text": [
            "(<tf.Tensor: shape=(), dtype=string, numpy=b'i was dismissed .'>, <tf.Tensor: shape=(14,), dtype=int32, numpy=\n",
            "array([  1,   4,  68, 844,   3,   2,   0,   0,   0,   0,   0,   0,   0,\n",
            "         0], dtype=int32)>)\n"
          ]
        }
      ]
    },
    {
      "cell_type": "code",
      "metadata": {
        "id": "D7bn3mRs1iaj",
        "colab": {
          "base_uri": "https://localhost:8080/",
          "height": 0
        },
        "outputId": "6119dd7f-df2e-4ade-e077-8ae6b7b09a09"
      },
      "source": [
        "def map_split(prepro_en_sentences, de_padded_sequences):\n",
        "    return (tf.strings.split(prepro_en_sentences, sep=\" \"),\n",
        "            de_padded_sequences)\n",
        "\n",
        "train_dataset_split = train_dataset_unprocessed.map(map_split)\n",
        "valid_dataset_split = valid_dataset_unprocessed.map(map_split)\n",
        "\n",
        "for element in train_dataset_split:\n",
        "    print(element)\n",
        "    break"
      ],
      "execution_count": 144,
      "outputs": [
        {
          "output_type": "stream",
          "name": "stdout",
          "text": [
            "(<tf.Tensor: shape=(4,), dtype=string, numpy=array([b'i', b'was', b'dismissed', b'.'], dtype=object)>, <tf.Tensor: shape=(14,), dtype=int32, numpy=\n",
            "array([  1,   4,  68, 844,   3,   2,   0,   0,   0,   0,   0,   0,   0,\n",
            "         0], dtype=int32)>)\n"
          ]
        }
      ]
    },
    {
      "cell_type": "code",
      "metadata": {
        "id": "q0Fdso381ian"
      },
      "source": [
        "def map_embeds(en_sentences, de_padded_sequences):\n",
        "    en_embedded = embedding_layer(en_sentences)\n",
        "    return (en_embedded, de_padded_sequences)\n",
        "\n",
        "train_dataset_emb = train_dataset_split.map(map_embeds)\n",
        "valid_dataset_emb = valid_dataset_split.map(map_embeds)\n"
      ],
      "execution_count": 145,
      "outputs": []
    },
    {
      "cell_type": "code",
      "metadata": {
        "id": "bGqlxuqZ1ias"
      },
      "source": [
        "def filter_too_long(dataset):\n",
        "    def filter_auxiliary(en, de):\n",
        "        return tf.math.greater_equal(tf.cast(len(en),tf.int32),\n",
        "                                     tf.constant(13, dtype = tf.int32))\n",
        "    return dataset.filter(filter_auxiliary)\n",
        "\n",
        "\n",
        "def filter_en(embeded_english, german_sequence):\n",
        "    return len(embeded_english) <= 13\n",
        "\n",
        "\n",
        "train_dataset_thirteen = train_dataset_emb.filter(filter_en)\n",
        "valid_dataset_thirteen = valid_dataset_emb.filter(filter_en)"
      ],
      "execution_count": 146,
      "outputs": []
    },
    {
      "cell_type": "code",
      "metadata": {
        "id": "MdqSXEoX1iav",
        "colab": {
          "base_uri": "https://localhost:8080/",
          "height": 0
        },
        "outputId": "60f5b64d-7359-43a4-fb72-8fcb148f4a5f"
      },
      "source": [
        "def pad_en(embeded_english, german_sequence):\n",
        "    pad_value = [[13 - len(embeded_english), 0], [0, 0]]\n",
        "    embeded_english_padded = tf.pad(embeded_english, pad_value, \"CONSTANT\")\n",
        "    return (embeded_english_padded, german_sequence)\n",
        "\n",
        "train_dataset_pad = train_dataset_thirteen.map(pad_en)\n",
        "valid_dataset_pad = valid_dataset_thirteen.map(pad_en)\n",
        "\n",
        "print(train_dataset_pad.element_spec)"
      ],
      "execution_count": 147,
      "outputs": [
        {
          "output_type": "stream",
          "name": "stdout",
          "text": [
            "(TensorSpec(shape=(None, 128), dtype=tf.float32, name=None), TensorSpec(shape=(14,), dtype=tf.int32, name=None))\n"
          ]
        }
      ]
    },
    {
      "cell_type": "code",
      "source": [
        "train_dataset = train_dataset_pad.batch(16, drop_remainder=True)\n",
        "valid_dataset = valid_dataset_pad.batch(16, drop_remainder=True)\n",
        "print(train_dataset.element_spec)"
      ],
      "metadata": {
        "colab": {
          "base_uri": "https://localhost:8080/",
          "height": 0
        },
        "id": "BI6SO5qZ0glx",
        "outputId": "2f98eb6f-d981-40bd-f61c-8ccf77ae5055"
      },
      "execution_count": 148,
      "outputs": [
        {
          "output_type": "stream",
          "name": "stdout",
          "text": [
            "(TensorSpec(shape=(16, None, 128), dtype=tf.float32, name=None), TensorSpec(shape=(16, 14), dtype=tf.int32, name=None))\n"
          ]
        }
      ]
    },
    {
      "cell_type": "code",
      "source": [
        "for en_data, _ in train_dataset.take(1):\n",
        "    print(en_data.shape)"
      ],
      "metadata": {
        "colab": {
          "base_uri": "https://localhost:8080/",
          "height": 0
        },
        "id": "ekNkplBJ0grQ",
        "outputId": "5967f351-51e2-44eb-a89b-af8828f42b7a"
      },
      "execution_count": 149,
      "outputs": [
        {
          "output_type": "stream",
          "name": "stdout",
          "text": [
            "(16, 13, 128)\n"
          ]
        }
      ]
    },
    {
      "cell_type": "code",
      "source": [
        "for _, de_data in valid_dataset.take(1):\n",
        "    print(de_data)"
      ],
      "metadata": {
        "colab": {
          "base_uri": "https://localhost:8080/",
          "height": 0
        },
        "id": "xR67zUbW1fOu",
        "outputId": "2d9e2c04-b8e9-4857-bc1f-f7729f026a75"
      },
      "execution_count": 150,
      "outputs": [
        {
          "output_type": "stream",
          "name": "stdout",
          "text": [
            "tf.Tensor(\n",
            "[[   1    5   16   10 4580    3    2    0    0    0    0    0    0    0]\n",
            " [   1   99   16  597    3    2    0    0    0    0    0    0    0    0]\n",
            " [   1   14    6 3013  357    3    2    0    0    0    0    0    0    0]\n",
            " [   1   11    6  516    3    2    0    0    0    0    0    0    0    0]\n",
            " [   1    4  110   28  141    3    2    0    0    0    0    0    0    0]\n",
            " [   1    4   61 1267    3    2    0    0    0    0    0    0    0    0]\n",
            " [   1   21   91   26  255  181    3    2    0    0    0    0    0    0]\n",
            " [   1  680  121  294    3    2    0    0    0    0    0    0    0    0]\n",
            " [   1   64   31   62  154    9    2    0    0    0    0    0    0    0]\n",
            " [   1   14   24  830    3    2    0    0    0    0    0    0    0    0]\n",
            " [   1   13   32   50 2097    3    2    0    0    0    0    0    0    0]\n",
            " [   1   16    5  103  190    7    2    0    0    0    0    0    0    0]\n",
            " [   1  239   11   12    3    2    0    0    0    0    0    0    0    0]\n",
            " [   1    6   10   20  419    7    2    0    0    0    0    0    0    0]\n",
            " [   1 3394   28   12    3    2    0    0    0    0    0    0    0    0]\n",
            " [   1    5   16   22 3708    3    2    0    0    0    0    0    0    0]], shape=(16, 14), dtype=int32)\n"
          ]
        }
      ]
    },
    {
      "cell_type": "markdown",
      "metadata": {
        "id": "isIYhjq01iay"
      },
      "source": [
        "## 3. Create the custom layer\n",
        "You will now create a custom layer to add the learned end token embedding to the encoder model:"
      ]
    },
    {
      "cell_type": "code",
      "metadata": {
        "id": "e22f1Xyh6xvE",
        "colab": {
          "base_uri": "https://localhost:8080/",
          "height": 423
        },
        "outputId": "6ed67625-13c6-4f49-aa7e-a87561cd7085"
      },
      "source": [
        "# Run this cell to download and view a schematic diagram for the encoder model\n",
        "\n",
        "!wget -q -O neural_translation_model.png --no-check-certificate \"https://docs.google.com/uc?export=download&id=1JrtNOzUJDaOWrK4C-xv-4wUuZaI12sQI\"\n",
        "Image(\"neural_translation_model.png\")"
      ],
      "execution_count": 151,
      "outputs": [
        {
          "output_type": "execute_result",
          "data": {
            "image/png": "[encoded data removed]",
            "text/plain": [
              "<IPython.core.display.Image object>"
            ]
          },
          "metadata": {},
          "execution_count": 151
        }
      ]
    },
    {
      "cell_type": "markdown",
      "metadata": {
        "id": "M6gLIHG81iaz"
      },
      "source": [
        "You should now build the custom layer.\n",
        "* Using layer subclassing, create a custom layer that takes a batch of English data examples from one of the Datasets, and adds a learned embedded ‘end’ token to the end of each sequence.\n",
        "* This layer should create a TensorFlow Variable (that will be learned during training) that is 128-dimensional (the size of the embedding space). _Hint: you may find it helpful in the call method to use the tf.tile function to replicate the end token embedding across every element in the batch._\n",
        "* Using the Dataset `.take(1)` method, extract a batch of English data examples from the training Dataset and print the shape. Test the custom layer by calling the layer on the English data batch Tensor and print the resulting Tensor shape (the layer should increase the sequence length by one)."
      ]
    },
    {
      "cell_type": "code",
      "metadata": {
        "id": "yg9hjZz11ia0"
      },
      "source": [
        "from tensorflow.keras.layers import Layer\n",
        "\n",
        "class CustomLayer(Layer):\n",
        "    def __init__(self, **kwargs):\n",
        "        super(CustomLayer, self).__init__(**kwargs)\n",
        "        self.token_embed = tf.Variable(initial_value=tf.random.uniform(shape=(128,)),\n",
        "                                       trainable=True)\n",
        "\n",
        "    def call(self, inputs):\n",
        "        end_token = tf.tile(tf.reshape(self.token_embed, (1,1,128)),\n",
        "                            [tf.shape(inputs)[0],1,1])\n",
        "        return tf.keras.layers.concatenate([inputs, end_token], axis=1)"
      ],
      "execution_count": 152,
      "outputs": []
    },
    {
      "cell_type": "code",
      "metadata": {
        "id": "4PwI32O11ia3",
        "colab": {
          "base_uri": "https://localhost:8080/",
          "height": 0
        },
        "outputId": "6b21b94c-0380-4715-c15d-444a0001679d"
      },
      "source": [
        "custom_layer = CustomLayer()\n",
        "for english, _ in train_dataset.take(1):\n",
        "    english_custom_layered = custom_layer(english)\n",
        "    print(english.shape)\n",
        "    print(english_custom_layered.shape)"
      ],
      "execution_count": 153,
      "outputs": [
        {
          "output_type": "stream",
          "name": "stdout",
          "text": [
            "(16, 13, 128)\n",
            "(16, 14, 128)\n"
          ]
        }
      ]
    },
    {
      "cell_type": "code",
      "metadata": {
        "id": "ebjK8PmL1ia6"
      },
      "source": [],
      "execution_count": 153,
      "outputs": []
    },
    {
      "cell_type": "markdown",
      "metadata": {
        "id": "OAd3i4_y1ia-"
      },
      "source": [
        "## 4. Build the encoder network\n",
        "The encoder network follows the schematic diagram above. You should now build the RNN encoder model.\n",
        "* Using the functional API, build the encoder network according to the following spec:\n",
        "    * The model will take a batch of sequences of embedded English words as input, as given by the Dataset objects.\n",
        "    * The next layer in the encoder will be the custom layer you created previously, to add a learned end token embedding to the end of the English sequence.\n",
        "    * This is followed by a Masking layer, with the `mask_value` set to the distinct padding value you used when you padded the English sequences with the Dataset preprocessing above.\n",
        "    * The final layer is an LSTM layer with 512 units, which also returns the hidden and cell states.\n",
        "    * The encoder is a multi-output model. There should be two output Tensors of this model: the hidden state and cell states of the LSTM layer. The output of the LSTM layer is unused.\n",
        "* Using the Dataset `.take(1)` method, extract a batch of English data examples from the training Dataset and test the encoder model by calling it on the English data Tensor, and print the shape of the resulting Tensor outputs.\n",
        "* Print the model summary for the encoder network."
      ]
    },
    {
      "cell_type": "code",
      "metadata": {
        "id": "6R2LqbfV1ia_"
      },
      "source": [
        "def encoded_net(batch_sequence_shape=(13, 128)):\n",
        "    inputs = Input(shape=batch_sequence_shape)\n",
        "    x = CustomLayer()(inputs)\n",
        "    mask_layer = Masking(mask_value=-1)(x)\n",
        "    lstm , hidden_state, cell_state = LSTM(512,\n",
        "                                           return_sequences=True,\n",
        "                                           return_state=True)(mask_layer)\n",
        "    model = Model(inputs=inputs, outputs=[hidden_state, cell_state])\n",
        "    return model"
      ],
      "execution_count": 154,
      "outputs": []
    },
    {
      "cell_type": "code",
      "metadata": {
        "id": "e5XW6NxL1ibC",
        "colab": {
          "base_uri": "https://localhost:8080/",
          "height": 0
        },
        "outputId": "a17167ce-8844-421b-c347-664ec26b1e48"
      },
      "source": [
        "encoder_model = encoded_net()\n",
        "\n",
        "for en_ds, de_ds in train_dataset.take(1):\n",
        "    hidden, cell_state = encoder_model(en_ds)\n",
        "    print(hidden.shape)\n",
        "    print(cell_state.shape)\n",
        "\n",
        "encoder_model.summary()"
      ],
      "execution_count": 155,
      "outputs": [
        {
          "output_type": "stream",
          "name": "stdout",
          "text": [
            "(16, 512)\n",
            "(16, 512)\n",
            "Model: \"model_3\"\n",
            "_________________________________________________________________\n",
            " Layer (type)                Output Shape              Param #   \n",
            "=================================================================\n",
            " input_4 (InputLayer)        [(None, 13, 128)]         0         \n",
            "                                                                 \n",
            " custom_layer_7 (CustomLayer  (None, 14, 128)          128       \n",
            " )                                                               \n",
            "                                                                 \n",
            " masking_3 (Masking)         (None, 14, 128)           0         \n",
            "                                                                 \n",
            " lstm_6 (LSTM)               [(None, 14, 512),         1312768   \n",
            "                              (None, 512),                       \n",
            "                              (None, 512)]                       \n",
            "                                                                 \n",
            "=================================================================\n",
            "Total params: 1,312,896\n",
            "Trainable params: 1,312,896\n",
            "Non-trainable params: 0\n",
            "_________________________________________________________________\n"
          ]
        }
      ]
    },
    {
      "cell_type": "markdown",
      "metadata": {
        "id": "KvkzpCeZ1ibR"
      },
      "source": [
        "## 5. Build the decoder network\n",
        "The decoder network follows the schematic diagram below."
      ]
    },
    {
      "cell_type": "code",
      "metadata": {
        "id": "yOjEb7cH7Y4S",
        "colab": {
          "base_uri": "https://localhost:8080/",
          "height": 501
        },
        "outputId": "d1743f97-8f31-4b61-ca50-d522164e63ad"
      },
      "source": [
        "# Run this cell to download and view a schematic diagram for the decoder model\n",
        "\n",
        "!wget -q -O neural_translation_model.png --no-check-certificate \"https://docs.google.com/uc?export=download&id=1DTeaXD8tA8RjkpVrB2mr9csSBOY4LQiW\"\n",
        "Image(\"neural_translation_model.png\")"
      ],
      "execution_count": 156,
      "outputs": [
        {
          "output_type": "execute_result",
          "data": {
            "image/png": "[encoded data removed]",
            "text/plain": [
              "<IPython.core.display.Image object>"
            ]
          },
          "metadata": {},
          "execution_count": 156
        }
      ]
    },
    {
      "cell_type": "markdown",
      "metadata": {
        "id": "VPBK8WGL1ibS"
      },
      "source": [
        "You should now build the RNN decoder model.\n",
        "* Using Model subclassing, build the decoder network according to the following spec:\n",
        "    * The initializer should create the following layers:\n",
        "        * An Embedding layer with vocabulary size set to the number of unique German tokens, embedding dimension 128, and set to mask zero values in the input.\n",
        "        * An LSTM layer with 512 units, that returns its hidden and cell states, and also returns sequences.\n",
        "        * A Dense layer with number of units equal to the number of unique German tokens, and no activation function.\n",
        "    * The call method should include the usual `inputs` argument, as well as the additional keyword arguments `hidden_state` and `cell_state`. The default value for these keyword arguments should be `None`.\n",
        "    * The call method should pass the inputs through the Embedding layer, and then through the LSTM layer. If the `hidden_state` and `cell_state` arguments are provided, these should be used for the initial state of the LSTM layer. _Hint: use the_ `initial_state` _keyword argument when calling the LSTM layer on its input._\n",
        "    * The call method should pass the LSTM output sequence through the Dense layer, and return the resulting Tensor, along with the hidden and cell states of the LSTM layer.\n",
        "* Using the Dataset `.take(1)` method, extract a batch of English and German data examples from the training Dataset. Test the decoder model by first calling the encoder model on the English data Tensor to get the hidden and cell states, and then call the decoder model on the German data Tensor and hidden and cell states, and print the shape of the resulting decoder Tensor outputs.\n",
        "* Print the model summary for the decoder network."
      ]
    },
    {
      "cell_type": "code",
      "metadata": {
        "id": "l50qhnXD1ibT"
      },
      "source": [
        "class Decoder(Model):\n",
        "    def __init__(self):\n",
        "        super(Decoder, self).__init__()\n",
        "        self.embedding = Embedding(unique_tokens, 128, mask_zero=True)\n",
        "        self.lstm = LSTM(512, return_sequences=True, return_state=True)\n",
        "        self.dense = Dense(unique_tokens)\n",
        "\n",
        "\n",
        "    def call(self, inputs, hidden_state=None, cell_state=None):\n",
        "        input = self.embedding(inputs)\n",
        "        lstm, hidden, cell = self.lstm(input, initial_state=[hidden_state, cell_state])\n",
        "        output = self.dense(lstm)\n",
        "        return output, hidden, cell"
      ],
      "execution_count": 157,
      "outputs": []
    },
    {
      "cell_type": "code",
      "metadata": {
        "id": "vG5CRIXV1ibi",
        "colab": {
          "base_uri": "https://localhost:8080/",
          "height": 0
        },
        "outputId": "f02e9e8e-b6f7-4501-e16a-fee480fb82e4"
      },
      "source": [
        "decoder = Decoder()\n",
        "\n",
        "for en_ds, de_ds in train_dataset.take(1):\n",
        "    hiden, cell = encoder_model(english)\n",
        "    output, hidden, cell = decoder(de_ds, hidden, cell)\n",
        "    print(\"decoder output shape:\")\n",
        "    print(tf.shape(output))\n",
        "    print(\"hidden state shape:\")\n",
        "    print(tf.shape(hidden))\n",
        "    print(\"cell state shape:\")\n",
        "    print(tf.shape(cell))\n",
        "\n",
        "decoder.summary()"
      ],
      "execution_count": 158,
      "outputs": [
        {
          "output_type": "stream",
          "name": "stdout",
          "text": [
            "decoder output shape:\n",
            "tf.Tensor([  16   14 5744], shape=(3,), dtype=int32)\n",
            "hidden state shape:\n",
            "tf.Tensor([ 16 512], shape=(2,), dtype=int32)\n",
            "cell state shape:\n",
            "tf.Tensor([ 16 512], shape=(2,), dtype=int32)\n",
            "Model: \"decoder_3\"\n",
            "_________________________________________________________________\n",
            " Layer (type)                Output Shape              Param #   \n",
            "=================================================================\n",
            " embedding_3 (Embedding)     multiple                  735232    \n",
            "                                                                 \n",
            " lstm_7 (LSTM)               multiple                  1312768   \n",
            "                                                                 \n",
            " dense_3 (Dense)             multiple                  2946672   \n",
            "                                                                 \n",
            "=================================================================\n",
            "Total params: 4,994,672\n",
            "Trainable params: 4,994,672\n",
            "Non-trainable params: 0\n",
            "_________________________________________________________________\n"
          ]
        }
      ]
    },
    {
      "cell_type": "markdown",
      "metadata": {
        "id": "pST9XGJ81ibo"
      },
      "source": [
        "## 6. Make a custom training loop\n",
        "You should now write a custom training loop to train your custom neural translation model.\n",
        "* Define a function that takes a Tensor batch of German data (as extracted from the training Dataset), and returns a tuple containing German inputs and outputs for the decoder model (refer to schematic diagram above).\n",
        "* Define a function that computes the forward and backward pass for your translation model. This function should take an English input, German input and German output as arguments, and should do the following:\n",
        "    * Pass the English input into the encoder, to get the hidden and cell states of the encoder LSTM.\n",
        "    * These hidden and cell states are then passed into the decoder, along with the German inputs, which returns a sequence of outputs (the hidden and cell state outputs of the decoder LSTM are unused in this function).\n",
        "    * The loss should then be computed between the decoder outputs and the German output function argument.\n",
        "    * The function returns the loss and gradients with respect to the encoder and decoder’s trainable variables.\n",
        "    * Decorate the function with `@tf.function`\n",
        "* Define and run a custom training loop for a number of epochs (for you to choose) that does the following:\n",
        "    * Iterates through the training dataset, and creates decoder inputs and outputs from the German sequences.\n",
        "    * Updates the parameters of the translation model using the gradients of the function above and an optimizer object.\n",
        "    * Every epoch, compute the validation loss on a number of batches from the validation and save the epoch training and validation losses.\n",
        "* Plot the learning curves for loss vs epoch for both training and validation sets.\n",
        "\n",
        "_Hint: This model is computationally demanding to train. The quality of the model or length of training is not a factor in the grading rubric. However, to obtain a better model we recommend using the GPU accelerator hardware on Colab._"
      ]
    },
    {
      "cell_type": "code",
      "metadata": {
        "id": "7hJHbWqs1ibr"
      },
      "source": [
        "def tensor_de_to_tuple(data_de):\n",
        "    german_input = data_de[:,:-1]\n",
        "    german_output = data_de[:,1:]\n",
        "    return (german_input, german_output)\n"
      ],
      "execution_count": 159,
      "outputs": []
    },
    {
      "cell_type": "code",
      "metadata": {
        "id": "Jvu4J4-u1ibu"
      },
      "source": [
        "@tf.function\n",
        "def forward_backward(english_input, german_input, german_output):\n",
        "    with tf.GradientTape() as tape:\n",
        "        hidden, cell = encoder_model(english_input)\n",
        "        german_from_model, hidden, cell = decoder(german_input,\n",
        "                                                  hidden,\n",
        "                                                  cell)\n",
        "        loss = tf.keras.losses.sparse_categorical_crossentropy(german_output,\n",
        "                                                               german_from_model,\n",
        "                                                               from_logits=True)\n",
        "        gradients = tape.gradient(loss, encoder_model.trainable_variables\n",
        "                                  + decoder.trainable_variables)\n",
        "        return (loss, gradients)"
      ],
      "execution_count": 160,
      "outputs": []
    },
    {
      "cell_type": "code",
      "metadata": {
        "id": "Vl5H06811ibx",
        "colab": {
          "base_uri": "https://localhost:8080/",
          "height": 0
        },
        "outputId": "dc9bd5c8-aeaf-4a3b-c57e-df84026e98b0"
      },
      "source": [
        "optimizer = tf.keras.optimizers.Adam(learning_rate=0.001)\n",
        "\n",
        "num_epochs = 10\n",
        "epoch_train_loss = []\n",
        "epoch_val_loss = []\n",
        "\n",
        "for epoch in range(num_epochs):\n",
        "    train_loss = tf.keras.metrics.Mean()\n",
        "    val_loss = tf.keras.metrics.Mean()\n",
        "\n",
        "    for english, german in train_dataset:\n",
        "        german_in, german_out = tensor_de_to_tuple(german)\n",
        "        loss_value, gradients = forward_backward(english, german_in, german_out)\n",
        "        optimizer.apply_gradients(zip(gradients, encoder_model.trainable_variables + decoder.trainable_variables))\n",
        "        train_loss(loss_value)\n",
        "    epoch_train_loss.append(train_loss.result())\n",
        "\n",
        "    for english, german in valid_dataset:\n",
        "        german_in, german_out = tensor_de_to_tuple(german)\n",
        "        hidden, cell_state = encoder_model(english)\n",
        "        german_from_model, hidden, cell_state = decoder(german_in,\n",
        "                                                        hidden,\n",
        "                                                        cell_state)\n",
        "        loss = tf.keras.losses.sparse_categorical_crossentropy(german_out,\n",
        "                                                               german_from_model,\n",
        "                                                               from_logits=True)\n",
        "        val_loss(loss)\n",
        "    epoch_val_loss.append(val_loss.result())\n",
        "    print(\"Epoch {:02d}: Average training loss = {:.6f}, Average validation loss = {:.6f} \".format(epoch + 1, epoch_train_loss[-1], epoch_val_loss[-1]))"
      ],
      "execution_count": 165,
      "outputs": [
        {
          "output_type": "stream",
          "name": "stdout",
          "text": [
            "Epoch 01: Average training loss = 3.016999, Average validation loss = 2.759549 \n",
            "Epoch 02: Average training loss = 2.089343, Average validation loss = 2.092192 \n",
            "Epoch 03: Average training loss = 1.385490, Average validation loss = 1.632353 \n",
            "Epoch 04: Average training loss = 0.896868, Average validation loss = 1.378481 \n",
            "Epoch 05: Average training loss = 0.595088, Average validation loss = 1.265081 \n",
            "Epoch 06: Average training loss = 0.412071, Average validation loss = 1.207896 \n",
            "Epoch 07: Average training loss = 0.298510, Average validation loss = 1.187263 \n",
            "Epoch 08: Average training loss = 0.223971, Average validation loss = 1.183241 \n",
            "Epoch 09: Average training loss = 0.171521, Average validation loss = 1.188565 \n",
            "Epoch 10: Average training loss = 0.135714, Average validation loss = 1.193326 \n"
          ]
        }
      ]
    },
    {
      "cell_type": "code",
      "metadata": {
        "id": "MVWOYJ3l1ib1",
        "colab": {
          "base_uri": "https://localhost:8080/",
          "height": 907
        },
        "outputId": "9a9fd836-7b79-46cd-bdef-8af5505426ea"
      },
      "source": [
        "import matplotlib.pyplot as plt\n",
        "%matplotlib inline\n",
        "\n",
        "# The graph is inconsistent due to smaller data used to make training faster\n",
        "fig = plt.figure(figsize = (10, 10))\n",
        "ax = fig.add_subplot(1,1,1)\n",
        "ax.plot(epoch_train_loss, label=\"Training\")\n",
        "ax.plot(epoch_val_loss, label=\"Validation\")\n",
        "ax.legend(loc='best')\n",
        "ax.set_title(\"Loss vs Epoch\")\n",
        "ax.set_xticklabels(range(0, num_epochs))\n",
        "ax.set_xlabel(\"Epoch\")\n",
        "ax.set_ylabel(\"Loss\")\n",
        "\n",
        "fig.show()"
      ],
      "execution_count": 166,
      "outputs": [
        {
          "output_type": "stream",
          "name": "stderr",
          "text": [
            "<ipython-input-166-ed3d278603a1>:11: UserWarning: FixedFormatter should only be used together with FixedLocator\n",
            "  ax.set_xticklabels(range(0, num_epochs))\n"
          ]
        },
        {
          "output_type": "display_data",
          "data": {
            "text/plain": [
              "<Figure size 1000x1000 with 1 Axes>"
            ],
            "image/png": "[encoded data removed]"
          },
          "metadata": {}
        }
      ]
    },
    {
      "cell_type": "markdown",
      "metadata": {
        "id": "xM2gvBM11ib-"
      },
      "source": [
        "## 7. Use the model to translate\n",
        "Now it's time to put your model into practice! You should run your translation for five randomly sampled English sentences from the dataset. For each sentence, the process is as follows:\n",
        "* Preprocess and embed the English sentence according to the model requirements.\n",
        "* Pass the embedded sentence through the encoder to get the encoder hidden and cell states.\n",
        "* Starting with the special  `\"<start>\"` token, use this token and the final encoder hidden and cell states to get the one-step prediction from the decoder, as well as the decoder’s updated hidden and cell states.\n",
        "* Create a loop to get the next step prediction and updated hidden and cell states from the decoder, using the most recent hidden and cell states. Terminate the loop when the `\"<end>\"` token is emitted, or when the sentence has reached a maximum length.\n",
        "* Decode the output token sequence into German text and print the English text and the model's German translation."
      ]
    },
    {
      "cell_type": "code",
      "metadata": {
        "id": "bGnQtE7L1icA",
        "colab": {
          "base_uri": "https://localhost:8080/",
          "height": 0
        },
        "outputId": "46615ee5-bb53-4c9c-fcc7-cdeb158667f0"
      },
      "source": [
        "start_token = tf.constant([[1]])\n",
        "end_token = tf.constant([[2]])\n",
        "end_token_val = end_token.numpy()[0][0]\n",
        "\n",
        "index_to_word = tokenizer.index_word\n",
        "\n",
        "\n",
        "for i, e in enumerate(np.random.choice(len(en_sentences), 5, replace=False)):\n",
        "    eng_sentence = en_sentences[e]\n",
        "\n",
        "    split_eng_sentence = tf.strings.split(eng_sentence, sep=' ')\n",
        "    embedding_out = embedding_layer(split_eng_sentence)\n",
        "    pad_value = tf.constant([[13,0], [0,0]])\n",
        "    embeded_english_padded = tf.pad(embedding_out, pad_value)\n",
        "    embeded_english_padded_out = embeded_english_padded[-13:,:]\n",
        "\n",
        "\n",
        "    embedding_exp = tf.expand_dims(embeded_english_padded_out, 0)\n",
        "    hidden, cell = encoder_model(embedding_exp)\n",
        "    translated_german = []\n",
        "    decoder_input = start_token\n",
        "\n",
        "    while decoder_input.numpy()[0][0] != end_token_val:\n",
        "        decoder_out, hidden, cell = decoder(decoder_input,\n",
        "                                            hidden,\n",
        "                                            cell)\n",
        "\n",
        "        pred_out_idx = ((np.argmax(decoder_out, axis=-1))[0][0])\n",
        "        german_word = index_to_word[pred_out_idx]\n",
        "        translated_german.append(german_word)\n",
        "        decoder_input = tf.constant([[pred_out_idx]])\n",
        "    translated_german = ' '.join(translated_german[:-1])\n",
        "    print(f\"Original German: {de_sentences[e]}\")\n",
        "    print(f\"Translated German: {translated_german}\")"
      ],
      "execution_count": 170,
      "outputs": [
        {
          "output_type": "stream",
          "name": "stdout",
          "text": [
            "Original German: Kann Tom uns sehen?\n",
            "Translated German: helfen sie tom ?\n",
            "Original German: Er kann schnell laufen.\n",
            "Translated German: er kann sich aendern .\n",
            "Original German: Er war schuld.\n",
            "Translated German: es war seine .\n",
            "Original German: Ich werde Tom holen.\n",
            "Translated German: du wirst gehen .\n",
            "Original German: Fahr sicher!\n",
            "Translated German: das abendessen ist aus .\n"
          ]
        }
      ]
    },
    {
      "cell_type": "code",
      "source": [],
      "metadata": {
        "id": "okGmpCEhD4TY"
      },
      "execution_count": null,
      "outputs": []
    }
  ]
}